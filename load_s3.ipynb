{
 "cells": [
  {
   "cell_type": "code",
   "execution_count": 9,
   "metadata": {},
   "outputs": [],
   "source": [
    "\n",
    "import boto3\n",
    "import pandas as pd\n",
    "from faker import Faker\n",
    "import random\n",
    "from io import StringIO\n",
    "from datetime import datetime"
   ]
  },
  {
   "cell_type": "code",
   "execution_count": 10,
   "metadata": {},
   "outputs": [],
   "source": [
    "# Initialize Faker and AWS S3 client\n",
    "fake = Faker()\n",
    "s3 = boto3.client('s3')"
   ]
  },
  {
   "cell_type": "code",
   "execution_count": 11,
   "metadata": {},
   "outputs": [],
   "source": [
    "def generate_cdc_order_data(num_rows=500):\n",
    "    data = []\n",
    "    for _ in range(num_rows):\n",
    "        order = {\n",
    "            'order_id': fake.uuid4(),\n",
    "            'customer_id': fake.uuid4(),\n",
    "            'order_date': fake.date_this_year(),\n",
    "            'status': random.choice(['CREATED', 'SHIPPED', 'DELIVERED', 'CANCELLED']),\n",
    "            'product_id': fake.uuid4(),\n",
    "            'quantity': random.randint(1, 5),\n",
    "            'price': round(random.uniform(10.0, 500.0), 2),\n",
    "            'total_amount': 0.0,  # We'll calculate this next\n",
    "            'cdc_timestamp': datetime.now()   # Simulate CDC timestamp\n",
    "        }\n",
    "        order['total_amount'] = round(order['quantity'] * order['price'], 2)\n",
    "        data.append(order)\n",
    "\n",
    "    # Convert to DataFrame\n",
    "    df = pd.DataFrame(data)\n",
    "    return df"
   ]
  },
  {
   "cell_type": "code",
   "execution_count": 12,
   "metadata": {},
   "outputs": [
    {
     "name": "stdout",
     "output_type": "stream",
     "text": [
      "Data uploaded to s3://ckdatatech/orders/fake_cdc_order_data_3.csv\n"
     ]
    }
   ],
   "source": [
    "# Function to upload data to S3\n",
    "def upload_to_s3(bucket_name, file_name, df):\n",
    "    csv_buffer = StringIO()\n",
    "    df.to_csv(csv_buffer, index=False)\n",
    "    s3.put_object(Bucket=bucket_name, Key=file_name, Body=csv_buffer.getvalue())\n",
    "    print(f\"Data uploaded to s3://{bucket_name}/{file_name}\")\n",
    "\n",
    "# Generate 100 rows of fake CDC order data\n",
    "df_cdc_order_data = generate_cdc_order_data(num_rows=20)\n",
    "\n",
    "# Define S3 bucket and file path\n",
    "bucket_name = 'your S3 bucket'\n",
    "file_name = 'file_name' #can be parquet, csv etc.\n",
    "\n",
    "# Upload the generated data to S3\n",
    "upload_to_s3(bucket_name, file_name, df_cdc_order_data)"
   ]
  },
  {
   "cell_type": "code",
   "execution_count": null,
   "metadata": {},
   "outputs": [],
   "source": []
  }
 ],
 "metadata": {
  "kernelspec": {
   "display_name": "dev-venv",
   "language": "python",
   "name": "python3"
  },
  "language_info": {
   "codemirror_mode": {
    "name": "ipython",
    "version": 3
   },
   "file_extension": ".py",
   "mimetype": "text/x-python",
   "name": "python",
   "nbconvert_exporter": "python",
   "pygments_lexer": "ipython3",
   "version": "3.12.5"
  }
 },
 "nbformat": 4,
 "nbformat_minor": 2
}
